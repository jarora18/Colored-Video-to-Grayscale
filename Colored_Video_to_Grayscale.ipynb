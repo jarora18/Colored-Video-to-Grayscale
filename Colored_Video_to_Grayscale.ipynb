{
  "nbformat": 4,
  "nbformat_minor": 0,
  "metadata": {
    "colab": {
      "provenance": [],
      "authorship_tag": "ABX9TyNUY0MOU5OD0BlcE/O8cCph",
      "include_colab_link": true
    },
    "kernelspec": {
      "name": "python3",
      "display_name": "Python 3"
    },
    "language_info": {
      "name": "python"
    }
  },
  "cells": [
    {
      "cell_type": "markdown",
      "metadata": {
        "id": "view-in-github",
        "colab_type": "text"
      },
      "source": [
        "<a href=\"https://colab.research.google.com/github/jarora18/Colored-Video-to-Grayscale/blob/main/Colored_Video_to_Grayscale.ipynb\" target=\"_parent\"><img src=\"https://colab.research.google.com/assets/colab-badge.svg\" alt=\"Open In Colab\"/></a>"
      ]
    },
    {
      "cell_type": "code",
      "execution_count": 1,
      "metadata": {
        "colab": {
          "base_uri": "https://localhost:8080/"
        },
        "id": "FrJJ7Zsh9atY",
        "outputId": "08165818-386e-4c01-fa8b-0b836835c750"
      },
      "outputs": [
        {
          "output_type": "stream",
          "name": "stdout",
          "text": [
            "Processing video...\n",
            "Done! Grayscale video saved as: output_gray.mp4\n"
          ]
        }
      ],
      "source": [
        "import cv2\n",
        "\n",
        "# --- CONFIG ---\n",
        "INPUT_VIDEO = 'input_video.mp4'\n",
        "OUTPUT_VIDEO = 'output_gray.mp4'    # Output grayscale video\n",
        "# --------------\n",
        "\n",
        "# Open the original video\n",
        "cap = cv2.VideoCapture(INPUT_VIDEO)\n",
        "\n",
        "# Get video properties\n",
        "frame_width  = int(cap.get(cv2.CAP_PROP_FRAME_WIDTH))\n",
        "frame_height = int(cap.get(cv2.CAP_PROP_FRAME_HEIGHT))\n",
        "fps          = cap.get(cv2.CAP_PROP_FPS)\n",
        "fourcc       = cv2.VideoWriter_fourcc(*'mp4v')  # Codec for .mp4 output\n",
        "\n",
        "# Define video writer (with single channel for gray)\n",
        "out = cv2.VideoWriter(OUTPUT_VIDEO, fourcc, fps, (frame_width, frame_height), isColor=False)\n",
        "\n",
        "print(\"Processing video...\")\n",
        "\n",
        "while True:\n",
        "    ret, frame = cap.read()\n",
        "    if not ret:\n",
        "        break\n",
        "\n",
        "    # Convert frame to grayscale\n",
        "    gray_frame = cv2.cvtColor(frame, cv2.COLOR_BGR2GRAY)\n",
        "\n",
        "    # Write the grayscale frame\n",
        "    out.write(gray_frame)\n",
        "\n",
        "# Release everything\n",
        "cap.release()\n",
        "out.release()\n",
        "\n",
        "print(f\"Done! Grayscale video saved as: {OUTPUT_VIDEO}\")\n"
      ]
    }
  ]
}